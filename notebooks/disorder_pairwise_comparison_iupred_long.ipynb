{
 "cells": [
  {
   "cell_type": "markdown",
   "source": [
    "# Pairwise disorder comparison between effectors and reference proteomes - IUpred 1.0 *long*"
   ],
   "metadata": {}
  },
  {
   "cell_type": "code",
   "execution_count": 1,
   "source": [
    "import json\n",
    "import pandas as pd\n",
    "import numpy as np\n",
    "import matplotlib.pyplot as plt\n",
    "import glob\n",
    "import seaborn as sns\n",
    "from scipy.stats import mannwhitneyu\n",
    "\n",
    "import sys\n",
    "sys.path.append('../src/')\n",
    "\n",
    "import aepathdisorder as aepd\n",
    "\n",
    "%matplotlib inline"
   ],
   "outputs": [],
   "metadata": {}
  },
  {
   "cell_type": "code",
   "execution_count": 2,
   "source": [
    "# Load maps\n",
    "bug_map = aepd.load_map('../data/maps/reference_taxa.json')\n",
    "CR_map = aepd.load_map('../data/maps/CR_taxa.json')\n",
    "EHEC_map = aepd.load_map('../data/maps/EHEC_taxa.json')\n",
    "EPEC_map = aepd.load_map('../data/maps/EPEC_taxa.json')\n",
    "\n",
    "# Load iupred results\n",
    "bug_iupred = glob.glob('../data/iupred_agg-clas/proteomes/*/*long*.table')\n",
    "EHEC_iupred = glob.glob('../data/iupred_agg-clas/EHEC_effectors/*long*.table')\n",
    "EPEC_iupred = glob.glob('../data/iupred_agg-clas/EPEC_effectors/*long*.table')\n",
    "CR_iupred = glob.glob('../data/iupred_agg-clas/CR_effectors/*long*.table')"
   ],
   "outputs": [],
   "metadata": {}
  },
  {
   "cell_type": "code",
   "execution_count": 3,
   "source": [
    "#human_df = concatenate_results(human_iupred)\n",
    "bug_df = aepd.concatenate_results(bug_iupred)\n",
    "EHEC_df = aepd.concatenate_results(EHEC_iupred)\n",
    "EPEC_df = aepd.concatenate_results(EPEC_iupred)\n",
    "CR_df = aepd.concatenate_results(CR_iupred)\n",
    "\n",
    "effector_types = ['EHEC', 'EPEC', 'CR']\n",
    "effector_dfs = [EHEC_df, EPEC_df, CR_df]\n",
    "effector_maps = [EHEC_map, EPEC_map, CR_map]\n",
    "\n",
    "for df, mapdict in zip(effector_dfs, effector_maps):\n",
    "    #df.drop(['dataset'], axis=1,  inplace=True)\n",
    "    df['dataset'] = df['protein_ac'].map(mapdict)\n",
    "    df['collection_type'] = 'Effector'\n",
    "\n",
    "for df, effector_type in zip(effector_dfs, effector_types):\n",
    "    df['effector_type'] = effector_type\n",
    "# Make bug taxa strings (stored as int)\n",
    "bug_df['dataset'] = bug_df['dataset'].astype(str)\n",
    "# Define references as such\n",
    "bug_df['collection_type'] = 'Reference'\n",
    "\n",
    "merged_effector_df = pd.concat(effector_dfs)\n"
   ],
   "outputs": [],
   "metadata": {}
  },
  {
   "cell_type": "code",
   "execution_count": 4,
   "source": [
    "bug_efftype_map = {}\n",
    "for k, v in bug_map.items():\n",
    "    bug_efftype_map[k] = v['type']\n",
    "\n",
    "bug_efftype_map"
   ],
   "outputs": [
    {
     "output_type": "execute_result",
     "data": {
      "text/plain": [
       "{'244319': 'EHEC',\n",
       " '362663': 'UPEC',\n",
       " '574521': 'EPEC',\n",
       " '585395': 'EHEC',\n",
       " '585396': 'EHEC',\n",
       " '637910': 'CR',\n",
       " '83334': 'EHEC'}"
      ]
     },
     "metadata": {},
     "execution_count": 4
    }
   ],
   "metadata": {}
  },
  {
   "cell_type": "code",
   "execution_count": 5,
   "source": [
    "effector_taxa  = set(merged_effector_df['dataset'])\n",
    "reference_taxa = set(bug_df['dataset'])\n",
    "\n",
    "paired_taxa = effector_taxa & reference_taxa\n",
    "\n",
    "paired_effectors = merged_effector_df[merged_effector_df['dataset'].isin(paired_taxa)]\n",
    "paired_bugs = bug_df[bug_df['dataset'].isin(paired_taxa)]"
   ],
   "outputs": [],
   "metadata": {}
  },
  {
   "cell_type": "code",
   "execution_count": 6,
   "source": [
    "paired_bugs['effector_type'] = paired_bugs['dataset'].map(bug_efftype_map) "
   ],
   "outputs": [],
   "metadata": {}
  },
  {
   "cell_type": "code",
   "execution_count": 7,
   "source": [
    "final_df = pd.concat([paired_effectors, paired_bugs], ignore_index=True)\n",
    "final_df.reset_index(inplace=True)\n",
    "# Drop effectors from Reference collections\n",
    "final_df = final_df.sort_values(by='collection_type').drop_duplicates(subset='protein_ac')"
   ],
   "outputs": [],
   "metadata": {}
  },
  {
   "cell_type": "code",
   "execution_count": 8,
   "source": [
    "len(final_df)"
   ],
   "outputs": [
    {
     "output_type": "execute_result",
     "data": {
      "text/plain": [
       "14451"
      ]
     },
     "metadata": {},
     "execution_count": 8
    }
   ],
   "metadata": {}
  },
  {
   "cell_type": "code",
   "execution_count": 9,
   "source": [
    "sns.catplot(\n",
    "    x='effector_type',\n",
    "    y='disorder_fraction',\n",
    "    hue='collection_type',\n",
    "    data=final_df,\n",
    "    kind='violin',\n",
    "    cut=0)\n",
    "\n",
    "plt.savefig('../figures/pairwise_iupred-long.png',\n",
    "            dpi=300)"
   ],
   "outputs": [
    {
     "output_type": "display_data",
     "data": {
      "image/png": "[encoded data removed]",
      "text/plain": [
       "<Figure size 446.25x360 with 1 Axes>"
      ]
     },
     "metadata": {
      "needs_background": "light"
     }
    }
   ],
   "metadata": {}
  },
  {
   "cell_type": "code",
   "execution_count": 10,
   "source": [
    "mwu_stat_df = aepd.calc_mannwithney(final_df)\n",
    "mwu_stat_df.to_csv('../data/iupred_agg-clas/mannwithney_iupred-long.tsv', sep='\\t', index_label='Effector collection')\n",
    "\n",
    "mwu_stat_df\n"
   ],
   "outputs": [
    {
     "output_type": "execute_result",
     "data": {
      "text/html": [
       "<div>\n",
       "<style scoped>\n",
       "    .dataframe tbody tr th:only-of-type {\n",
       "        vertical-align: middle;\n",
       "    }\n",
       "\n",
       "    .dataframe tbody tr th {\n",
       "        vertical-align: top;\n",
       "    }\n",
       "\n",
       "    .dataframe thead th {\n",
       "        text-align: right;\n",
       "    }\n",
       "</style>\n",
       "<table border=\"1\" class=\"dataframe\">\n",
       "  <thead>\n",
       "    <tr style=\"text-align: right;\">\n",
       "      <th></th>\n",
       "      <th>Reference taxon</th>\n",
       "      <th>p-value</th>\n",
       "    </tr>\n",
       "  </thead>\n",
       "  <tbody>\n",
       "    <tr>\n",
       "      <th>CR</th>\n",
       "      <td>637910</td>\n",
       "      <td>0.065003</td>\n",
       "    </tr>\n",
       "    <tr>\n",
       "      <th>EHEC</th>\n",
       "      <td>83334</td>\n",
       "      <td>0.062719</td>\n",
       "    </tr>\n",
       "    <tr>\n",
       "      <th>EPEC</th>\n",
       "      <td>574521</td>\n",
       "      <td>0.000633</td>\n",
       "    </tr>\n",
       "  </tbody>\n",
       "</table>\n",
       "</div>"
      ],
      "text/plain": [
       "     Reference taxon   p-value\n",
       "CR            637910  0.065003\n",
       "EHEC           83334  0.062719\n",
       "EPEC          574521  0.000633"
      ]
     },
     "metadata": {},
     "execution_count": 10
    }
   ],
   "metadata": {
    "tags": []
   }
  },
  {
   "cell_type": "code",
   "execution_count": 13,
   "source": [
    "ks_stat_df = aepd.calc_kolmogorovsmirnov(final_df)\n",
    "ks_stat_df.to_csv('../data/iupred_agg-clas/kolmogorovsmirnov_iupred-long.tsv', sep='\\t', index_label='Effector collection')\n",
    "ks_stat_df"
   ],
   "outputs": [
    {
     "output_type": "execute_result",
     "data": {
      "text/html": [
       "<div>\n",
       "<style scoped>\n",
       "    .dataframe tbody tr th:only-of-type {\n",
       "        vertical-align: middle;\n",
       "    }\n",
       "\n",
       "    .dataframe tbody tr th {\n",
       "        vertical-align: top;\n",
       "    }\n",
       "\n",
       "    .dataframe thead th {\n",
       "        text-align: right;\n",
       "    }\n",
       "</style>\n",
       "<table border=\"1\" class=\"dataframe\">\n",
       "  <thead>\n",
       "    <tr style=\"text-align: right;\">\n",
       "      <th></th>\n",
       "      <th>Reference taxon</th>\n",
       "      <th>p-value</th>\n",
       "    </tr>\n",
       "  </thead>\n",
       "  <tbody>\n",
       "    <tr>\n",
       "      <th>CR</th>\n",
       "      <td>637910</td>\n",
       "      <td>0.100189</td>\n",
       "    </tr>\n",
       "    <tr>\n",
       "      <th>EHEC</th>\n",
       "      <td>83334</td>\n",
       "      <td>0.215131</td>\n",
       "    </tr>\n",
       "    <tr>\n",
       "      <th>EPEC</th>\n",
       "      <td>574521</td>\n",
       "      <td>0.000508</td>\n",
       "    </tr>\n",
       "  </tbody>\n",
       "</table>\n",
       "</div>"
      ],
      "text/plain": [
       "     Reference taxon   p-value\n",
       "CR            637910  0.100189\n",
       "EHEC           83334  0.215131\n",
       "EPEC          574521  0.000508"
      ]
     },
     "metadata": {},
     "execution_count": 13
    }
   ],
   "metadata": {}
  },
  {
   "cell_type": "code",
   "execution_count": null,
   "source": [],
   "outputs": [],
   "metadata": {}
  }
 ],
 "metadata": {
  "kernelspec": {
   "name": "python3",
   "display_name": "Python 3.8.12 64-bit ('base': conda)"
  },
  "language_info": {
   "codemirror_mode": {
    "name": "ipython",
    "version": 3
   },
   "file_extension": ".py",
   "mimetype": "text/x-python",
   "name": "python",
   "nbconvert_exporter": "python",
   "pygments_lexer": "ipython3",
   "version": "3.8.12"
  },
  "interpreter": {
   "hash": "dca0ade3e726a953b501b15e8e990130d2b7799f14cfd9f4271676035ebe5511"
  }
 },
 "nbformat": 4,
 "nbformat_minor": 4
}