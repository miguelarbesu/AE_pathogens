{
 "metadata": {
  "language_info": {
   "codemirror_mode": {
    "name": "ipython",
    "version": 3
   },
   "file_extension": ".py",
   "mimetype": "text/x-python",
   "name": "python",
   "nbconvert_exporter": "python",
   "pygments_lexer": "ipython3",
   "version": "3.8.6-final"
  },
  "orig_nbformat": 2,
  "kernelspec": {
   "name": "python3",
   "display_name": "Python 3",
   "language": "python"
  }
 },
 "nbformat": 4,
 "nbformat_minor": 2,
 "cells": [
  {
   "cell_type": "code",
   "execution_count": 5,
   "metadata": {},
   "outputs": [],
   "source": [
    "import json\n",
    "import glob\n",
    "import pandas as pd\n",
    "import numpy as np\n",
    "import matplotlib.pyplot as plt\n",
    "import seaborn as sns\n",
    "\n",
    "import sys\n",
    "sys.path.append('../src/')\n",
    "\n",
    "import aepathdisorder as aepd\n",
    "\n",
    "%matplotlib inline\n",
    "\n",
    "%load_ext autoreload\n",
    "%autoreload 2"
   ]
  },
  {
   "cell_type": "code",
   "execution_count": null,
   "metadata": {},
   "outputs": [],
   "source": [
    "iupred2a = ../src/3rdparty/iupred2a/iupred2a.py\n"
   ]
  },
  {
   "cell_type": "code",
   "execution_count": 8,
   "metadata": {},
   "outputs": [
    {
     "output_type": "stream",
     "name": "stdout",
     "text": [
      "# IUPred2A: context-dependent prediction of protein disorder as a function of redox state and protein binding\n# Balint Meszaros, Gabor Erdos, Zsuzsanna Dosztanyi\n# Nucleic Acids Research 2018;46(W1):W329-W337.\n#\n# Prediction type: long\n# Prediction output\n# POS\tRES\tIUPRED2\n1\tM\t0.2224\n2\tY\t0.1424\n3\tH\t0.2292\n4\tR\t0.1373\n5\tK\t0.1759\n6\tI\t0.1162\n7\tN\t0.1424\n8\tP\t0.0888\n9\tK\t0.1137\n10\tA\t0.1115\n11\tI\t0.1092\n12\tI\t0.1476\n13\tP\t0.1424\n14\tF\t0.0948\n15\tT\t0.0581\n16\tL\t0.0494\n17\tS\t0.0817\n18\tF\t0.0414\n19\tT\t0.0281\n20\tA\t0.0287\n21\tA\t0.0287\n22\tQ\t0.0443\n23\tL\t0.0780\n24\tV\t0.0380\n25\tC\t0.0799\n26\tA\t0.0463\n27\tG\t0.0851\n28\tF\t0.0518\n29\tA\t0.0581\n30\tS\t0.0605\n31\tA\t0.0494\n32\tK\t0.0676\n33\tN\t0.0605\n34\tY\t0.0985\n35\tE\t0.1501\n36\tL\t0.2328\n37\tN\t0.2609\n38\tY\t0.1881\n39\tI\t0.2034\n40\tD\t0.1611\n41\tV\t0.1702\n42\tN\t0.2094\n43\tG\t0.2193\n44\tG\t0.1399\n45\tQ\t0.1791\n46\tE\t0.1702\n47\tG\t0.2609\n48\tI\t0.2436\n49\tI\t0.3182\n50\tI\t0.3215\n51\tQ\t0.3215\n52\tD\t0.3053\n53\tT\t0.2951\n54\tI\t0.2364\n55\tA\t0.2541\n56\tD\t0.1643\n57\tD\t0.1583\n58\tK\t0.1702\n59\tS\t0.2783\n60\tY\t0.2918\n61\tD\t0.3807\n62\tI\t0.3631\n63\tT\t0.3740\n64\tV\t0.3667\n65\tN\t0.4619\n66\tI\t0.4940\n67\tD\t0.3983\n68\tN\t0.4087\n69\tP\t0.3529\n70\tV\t0.3460\n71\tR\t0.3494\n72\tG\t0.3321\n73\tE\t0.4119\n74\tG\t0.3286\n75\tN\t0.3983\n76\tG\t0.3807\n77\tL\t0.4330\n78\tE\t0.4292\n79\tV\t0.3872\n80\tK\t0.3494\n81\tI\t0.4256\n82\tG\t0.3392\n83\tS\t0.3566\n84\tI\t0.2575\n85\tT\t0.2575\n86\tK\t0.2575\n87\tA\t0.1881\n88\tQ\t0.2752\n89\tA\t0.1942\n90\tG\t0.2680\n91\tD\t0.1942\n92\tY\t0.2715\n93\tQ\t0.2715\n94\tI\t0.2752\n95\tG\t0.3599\n96\tN\t0.3667\n97\tY\t0.3840\n98\tN\t0.4441\n99\tV\t0.4409\n100\tN\t0.4801\n101\tI\t0.4507\n102\tS\t0.4330\n103\tG\t0.4330\n104\tT\t0.3872\n105\tT\t0.3774\n106\tQ\t0.2884\n107\tQ\t0.2715\n108\tE\t0.2715\n109\tH\t0.2575\n110\tR\t0.2849\n111\tA\t0.2988\n112\tG\t0.3704\n113\tL\t0.3807\n114\tA\t0.4017\n115\tF\t0.4017\n116\tF\t0.4087\n117\tG\t0.3392\n118\tL\t0.3321\n119\tS\t0.2541\n120\tA\t0.2609\n121\tE\t0.2645\n122\tG\t0.2094\n123\tQ\t0.2164\n124\tD\t0.2193\n125\tT\t0.2436\n126\tN\t0.3460\n127\tV\t0.4441\n128\tT\t0.3631\n129\tV\t0.3704\n130\tD\t0.3019\n131\tN\t0.3286\n132\tF\t0.3087\n133\tS\t0.3053\n134\tL\t0.2292\n135\tK\t0.2193\n136\tN\t0.2258\n137\tT\t0.2258\n138\tF\t0.2951\n139\tL\t0.2918\n140\tI\t0.3182\n141\tG\t0.2436\n142\tS\t0.1731\n143\tK\t0.2292\n144\tY\t0.2258\n145\tT\t0.2951\n146\tH\t0.2988\n147\tN\t0.2609\n148\tN\t0.2715\n149\tT\t0.2817\n150\tA\t0.3494\n151\tL\t0.3667\n152\tY\t0.3840\n153\tA\t0.3807\n154\tG\t0.3983\n155\tS\t0.4119\n156\tG\t0.3426\n157\tA\t0.2609\n158\tD\t0.2575\n159\tI\t0.2436\n160\tT\t0.2645\n161\tV\t0.2364\n162\tN\t0.3215\n163\tG\t0.3983\n164\tN\t0.4256\n165\tV\t0.4409\n166\tY\t0.4652\n167\tI\t0.4652\n168\tR\t0.4864\n169\tS\t0.4864\n170\tE\t0.5419\n171\tV\t0.5382\n172\tE\t0.5176\n173\tH\t0.4766\n174\tS\t0.4940\n175\tN\t0.4940\n176\tE\t0.5493\n177\tG\t0.5665\n178\tK\t0.5665\n179\tD\t0.5254\n180\tA\t0.5342\n181\tT\t0.5055\n182\tL\t0.5342\n183\tA\t0.5055\n184\tN\t0.4864\n185\tN\t0.4940\n186\tG\t0.4051\n187\tV\t0.3840\n188\tY\t0.3631\n189\tA\t0.3807\n190\tR\t0.3631\n191\tG\t0.3910\n192\tA\t0.3983\n193\tG\t0.4149\n194\tS\t0.3667\n195\tT\t0.2817\n196\tI\t0.2817\n197\tT\t0.2884\n198\tA\t0.2645\n199\tN\t0.3087\n200\tG\t0.3321\n201\tG\t0.3356\n202\tD\t0.2436\n203\tV\t0.2680\n204\tY\t0.2951\n205\tI\t0.2258\n206\tN\t0.1611\n207\tT\t0.2503\n208\tY\t0.2609\n209\tA\t0.2988\n210\tS\t0.2817\n211\tN\t0.2817\n212\tF\t0.2094\n213\tK\t0.2328\n214\tE\t0.2951\n215\tL\t0.3667\n216\tL\t0.4409\n217\tE\t0.4220\n218\tN\t0.4149\n219\tN\t0.4901\n220\tS\t0.5342\n221\tG\t0.5055\n222\tY\t0.4369\n223\tP\t0.5419\n224\tD\t0.5139\n225\tG\t0.4831\n226\tS\t0.5807\n227\tS\t0.6712\n228\tK\t0.6322\n229\tS\t0.5493\n230\tD\t0.4766\n231\tA\t0.4940\n232\tV\t0.4149\n233\tS\t0.5098\n234\tA\t0.4901\n235\tK\t0.4766\n236\tD\t0.4766\n237\tG\t0.5055\n238\tG\t0.5176\n239\tV\t0.5176\n240\tV\t0.4652\n241\tN\t0.4652\n242\tI\t0.4220\n243\tN\t0.4051\n244\tQ\t0.4051\n245\tS\t0.4441\n246\tG\t0.3740\n247\tE\t0.3740\n248\tH\t0.2849\n249\tK\t0.2849\n250\tV\t0.3460\n251\tN\t0.3948\n252\tL\t0.3087\n253\tL\t0.3087\n254\tG\t0.2715\n255\tN\t0.2645\n256\tI\t0.2715\n257\tD\t0.2715\n258\tF\t0.2645\n259\tG\t0.2193\n260\tD\t0.2364\n261\tK\t0.2164\n262\tI\t0.2064\n263\tY\t0.2094\n264\tA\t0.2884\n265\tN\t0.2918\n266\tT\t0.2541\n267\tS\t0.3494\n268\tQ\t0.3356\n269\tM\t0.3392\n270\tN\t0.2645\n271\tI\t0.2609\n272\tT\t0.2609\n273\tL\t0.3460\n274\tN\t0.4441\n275\tG\t0.4441\n276\tA\t0.4441\n277\tE\t0.3494\n278\tS\t0.2817\n279\tF\t0.2884\n280\tW\t0.3215\n281\tH\t0.2884\n282\tG\t0.3599\n283\tH\t0.3566\n284\tE\t0.4220\n285\tA\t0.3286\n286\tN\t0.3053\n287\tF\t0.3286\n288\tL\t0.3149\n289\tE\t0.2436\n290\tT\t0.3460\n291\tA\t0.3494\n292\tS\t0.3426\n293\tG\t0.2752\n294\tK\t0.2328\n295\tW\t0.2224\n296\tA\t0.2609\n297\tG\t0.2258\n298\tD\t0.2399\n299\tL\t0.2328\n300\tN\t0.1476\n301\tL\t0.1759\n302\tT\t0.2064\n303\tL\t0.2064\n304\tM\t0.2064\n305\tN\t0.2193\n306\tN\t0.2783\n307\tA\t0.3182\n308\tY\t0.2436\n309\tW\t0.2328\n310\tI\t0.2817\n311\tP\t0.1942\n312\tD\t0.2680\n313\tG\t0.1914\n314\tK\t0.2783\n315\tD\t0.3182\n316\tA\t0.3053\n317\tQ\t0.2918\n318\tI\t0.3149\n319\tS\t0.3117\n320\tA\t0.4051\n321\tI\t0.3983\n322\tT\t0.3667\n323\tL\t0.3566\n324\tQ\t0.2609\n325\tD\t0.2752\n326\tG\t0.1881\n327\tG\t0.2129\n328\tT\t0.2002\n329\tI\t0.2884\n330\tN\t0.3053\n331\tL\t0.3249\n332\tH\t0.3215\n333\tG\t0.3321\n334\tF\t0.4330\n335\tN\t0.4186\n336\tL\t0.3494\n337\tH\t0.3494\n338\tT\t0.2680\n339\tN\t0.2715\n340\tQ\t0.3599\n341\tS\t0.2680\n342\tI\t0.3426\n343\tN\t0.3356\n344\tE\t0.3494\n345\tT\t0.4619\n346\tV\t0.4476\n347\tK\t0.4507\n348\tI\t0.3460\n349\tH\t0.2680\n350\tD\t0.1823\n351\tL\t0.1759\n352\tK\t0.1323\n353\tG\t0.2129\n354\tN\t0.2034\n355\tN\t0.1942\n356\tG\t0.1881\n357\tI\t0.2470\n358\tF\t0.2609\n359\tL\t0.3631\n360\tI\t0.3740\n361\tD\t0.3631\n362\tV\t0.4441\n363\tN\t0.4619\n364\tT\t0.4619\n365\tN\t0.4476\n366\tK\t0.4441\n367\tT\t0.3494\n368\tD\t0.3460\n369\tE\t0.4685\n370\tQ\t0.4901\n371\tR\t0.5139\n372\tR\t0.4979\n373\tN\t0.5620\n374\tG\t0.5419\n375\tS\t0.5456\n376\tD\t0.5254\n377\tF\t0.5296\n378\tI\t0.5296\n379\tE\t0.5254\n380\tV\t0.4685\n381\tV\t0.3704\n382\tK\t0.3910\n383\tS\t0.3631\n384\tS\t0.2715\n385\tT\t0.2849\n386\tG\t0.2064\n387\tG\t0.2094\n388\tT\t0.2988\n389\tH\t0.3019\n390\tA\t0.2783\n391\tI\t0.3460\n392\tE\t0.3249\n393\tA\t0.3426\n394\tL\t0.3631\n395\tN\t0.3774\n396\tI\t0.2988\n397\tN\t0.2164\n398\tK\t0.1671\n399\tL\t0.1449\n400\tS\t0.1476\n401\tN\t0.1501\n402\tL\t0.1969\n403\tQ\t0.1759\n404\tE\t0.2129\n405\tD\t0.2328\n406\tI\t0.2258\n407\tW\t0.2164\n408\tV\t0.1823\n409\tA\t0.1643\n410\tD\t0.1702\n411\tA\t0.1791\n412\tA\t0.1643\n413\tS\t0.1643\n414\tN\t0.1611\n415\tV\t0.0948\n416\tT\t0.0909\n417\tF\t0.1501\n418\tA\t0.2436\n419\tA\t0.2292\n420\tY\t0.2034\n421\tD\t0.1349\n422\tK\t0.1611\n423\tI\t0.1275\n424\tD\t0.1251\n425\tI\t0.1399\n426\tT\t0.1275\n427\tN\t0.0817\n428\tE\t0.1424\n429\tY\t0.1611\n430\tV\t0.1914\n431\tY\t0.1852\n432\tD\t0.1791\n433\tY\t0.1969\n434\tK\t0.2715\n435\tP\t0.2715\n436\tL\t0.3807\n437\tL\t0.3215\n438\tR\t0.3087\n439\tS\t0.3019\n440\tD\t0.3053\n441\tI\t0.3529\n442\tR\t0.4292\n443\tE\t0.4330\n444\tG\t0.4220\n445\tD\t0.3566\n446\tP\t0.2470\n447\tV\t0.3215\n448\tS\t0.3910\n449\tQ\t0.3356\n450\tY\t0.3356\n451\tG\t0.3286\n452\tT\t0.4051\n453\tN\t0.3740\n454\tW\t0.3566\n455\tY\t0.3321\n456\tI\t0.3215\n457\tT\t0.2884\n458\tG\t0.3529\n459\tV\t0.3599\n460\tS\t0.3182\n461\tT\t0.3182\n462\tK\t0.2918\n463\tA\t0.3019\n464\tS\t0.2609\n465\tA\t0.3426\n466\tG\t0.3356\n467\tS\t0.4220\n468\tN\t0.3460\n469\tT\t0.3215\n470\tA\t0.3460\n471\tI\t0.3182\n472\tA\t0.3182\n473\tN\t0.2951\n474\tA\t0.3249\n475\tG\t0.2541\n476\tL\t0.2951\n477\tN\t0.2193\n478\tY\t0.2292\n479\tA\t0.2164\n480\tA\t0.1476\n481\tA\t0.1791\n482\tT\t0.2470\n483\tA\t0.2752\n484\tR\t0.1914\n485\tL\t0.2164\n486\tE\t0.2328\n487\tI\t0.2328\n488\tD\t0.2258\n489\tS\t0.3117\n490\tL\t0.3494\n491\tN\t0.3872\n492\tK\t0.4256\n493\tR\t0.4369\n494\tL\t0.4801\n495\tG\t0.4685\n496\tE\t0.4725\n497\tL\t0.3667\n498\tR\t0.3704\n499\tQ\t0.3667\n500\tN\t0.2951\n501\tQ\t0.3667\n502\tQ\t0.3529\n503\tQ\t0.3529\n504\tN\t0.3631\n505\tG\t0.3983\n506\tL\t0.4149\n507\tW\t0.3983\n508\tI\t0.4831\n509\tR\t0.4940\n510\tY\t0.4801\n511\tK\t0.4652\n512\tG\t0.3840\n513\tG\t0.2884\n514\tE\t0.2752\n515\tM\t0.2680\n516\tE\t0.2034\n517\tS\t0.2783\n518\tD\t0.3356\n519\tN\t0.4119\n520\tG\t0.4017\n521\tS\t0.4901\n522\tY\t0.4256\n523\tF\t0.3807\n524\tK\t0.3566\n525\tT\t0.3460\n526\tC\t0.3117\n527\tT\t0.2988\n528\tA\t0.2988\n529\tS\t0.2884\n530\tG\t0.2258\n531\tN\t0.2436\n532\tL\t0.2541\n533\tV\t0.3321\n534\tM\t0.4149\n535\tT\t0.4149\n536\tI\t0.4186\n537\tK\t0.5055\n538\tK\t0.4725\n539\tK\t0.4330\n540\tV\t0.4441\n541\tN\t0.4541\n542\tN\t0.3704\n543\tQ\t0.4369\n544\tS\t0.4766\n545\tG\t0.4940\n546\tR\t0.4766\n547\tE\t0.5577\n548\tA\t0.5456\n549\tL\t0.5342\n550\tR\t0.5176\n551\tR\t0.5951\n552\tI\t0.5533\n553\tT\t0.5098\n"
     ]
    }
   ],
   "source": [
    "run ../src/3rdparty/iupred2a/iupred2a.py /storage/AE_pathogens/data/fasta/CR_effectors/A0A2X2U9X2.fasta long"
   ]
  },
  {
   "cell_type": "code",
   "execution_count": null,
   "metadata": {},
   "outputs": [],
   "source": []
  }
 ]
}