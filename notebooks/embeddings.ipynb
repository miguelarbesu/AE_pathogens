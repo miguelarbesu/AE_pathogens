{
  "cells": [
    {
      "cell_type": "markdown",
      "metadata": {
        "id": "view-in-github",
        "colab_type": "text"
      },
      "source": [
        "<a href=\"https://colab.research.google.com/github/miguelarbesu/AE_pathogens/blob/main/notebooks/embeddings.ipynb\" target=\"_parent\"><img src=\"https://colab.research.google.com/assets/colab-badge.svg\" alt=\"Open In Colab\"/></a>"
      ]
    },
    {
      "cell_type": "code",
      "execution_count": 2,
      "metadata": {
        "id": "pBuDf3vlxVjf"
      },
      "outputs": [],
      "source": [
        "# Install dependencies\n",
        "# can take ~5-10 min\n",
        "%%capture\n",
        "!pip3 install -U pip > /dev/null\n",
        "!pip3 install -U bio_embeddings[all] > /dev/null\n",
        "!pip3 install pyyaml==5.4.1 > /dev/null\n",
        "!pip3 install -U biopython > /dev/null\n",
        "!pip3 install -U plotly > /dev/null"
      ]
    },
    {
      "cell_type": "code",
      "source": [
        "import numpy as np\n",
        "from bio_embeddings.embed import ProtTransBertBFDEmbedder\n",
        "from bio_embeddings.project import tsne_reduce\n",
        "import pandas as pd\n",
        "from Bio import SeqIO\n",
        "import plotly.express as px"
      ],
      "metadata": {
        "colab": {
          "base_uri": "https://localhost:8080/"
        },
        "id": "b5GQt6zYxsfI",
        "outputId": "0ce1e67c-d9d1-4403-f52c-b37c1479aa92"
      },
      "execution_count": 4,
      "outputs": [
        {
          "output_type": "stream",
          "name": "stderr",
          "text": [
            "/usr/local/lib/python3.7/dist-packages/distributed/config.py:20: YAMLLoadWarning: calling yaml.load() without Loader=... is deprecated, as the default Loader is unsafe. Please read https://msg.pyyaml.org/load for full details.\n",
            "  defaults = yaml.load(f)\n"
          ]
        }
      ]
    },
    {
      "cell_type": "code",
      "source": [
        "# donwload data from Drive and unzip\n",
        "%%capture\n",
        "!gdown 1tK5AzBTHrLYV1QO1b_FlvXxIUEkBMRu8\n",
        "!unzip \"effectors.zip\"\n",
        "! rm \"effectors.zip\""
      ],
      "metadata": {
        "id": "-CnIy7k_x2UK"
      },
      "execution_count": 5,
      "outputs": []
    },
    {
      "cell_type": "markdown",
      "metadata": {
        "id": "KxtNBIaGxVj0"
      },
      "source": [
        "## Batch embedding: effector collections and proteome references"
      ]
    },
    {
      "cell_type": "code",
      "execution_count": 6,
      "metadata": {
        "id": "xqYim4P5xVj1"
      },
      "outputs": [],
      "source": [
        "def load_fasta(fasta_path):\n",
        "    sequences = []\n",
        "    uniprot_ids = []\n",
        "    gene_names = []\n",
        "    for record in SeqIO.parse(fasta_path, \"fasta\"):\n",
        "        sequences.append(str(record.seq))\n",
        "        uniprot_ids.append(record.id.split(\"|\")[1])\n",
        "        try:\n",
        "            gene_names.append(\n",
        "                [\n",
        "                    x.split(\"=\")[1]\n",
        "                    for x in record.description.split(\" \")\n",
        "                    if x.startswith(\"GN=\")\n",
        "                ][0]\n",
        "            )\n",
        "        except IndexError:\n",
        "            gene_names.append(record.name)\n",
        "    return uniprot_ids, gene_names, sequences\n",
        "\n",
        "\n",
        "def make_collection_df(uniprot_ids, gene_names, sequences, collection_name):\n",
        "    collection_name_list = len(uniprot_ids) * [collection_name]\n",
        "    collection_df = pd.DataFrame(\n",
        "        {\n",
        "            \"uniprot id\": uniprot_ids,\n",
        "            \"gene name\": gene_names,\n",
        "            \"sequence\": sequences,\n",
        "            \"collection\": collection_name_list,\n",
        "        }\n",
        "    )\n",
        "    return collection_df\n"
      ]
    },
    {
      "cell_type": "code",
      "source": [
        "# load effector collections\n",
        "\n",
        "df = pd.DataFrame(columns=[\"uniprot id\", \"gene name\", \"sequence\", \"collection\"])\n",
        "\n",
        "EPEC_df = make_collection_df(\n",
        "    *load_fasta(\"effectors/fasta/EPEC_effectors.fasta\"), \"EPEC effector\"\n",
        ")\n",
        "EHEC_df = make_collection_df(\n",
        "    *load_fasta(\"effectors/fasta/EHEC_effectors.fasta\"), \"EHEC effector\"\n",
        ")\n",
        "CR_df = make_collection_df(\n",
        "    *load_fasta(\"effectors/fasta/CR_effectors.fasta\"), \"CR effector\"\n",
        ")\n",
        "\n",
        "# merge\n",
        "for collection_df in [EPEC_df, EHEC_df, CR_df]:\n",
        "    df = df.append(collection_df, ignore_index=True)\n",
        "\n",
        "df.shape"
      ],
      "metadata": {
        "colab": {
          "base_uri": "https://localhost:8080/"
        },
        "id": "jBo74FC0zO0a",
        "outputId": "39fe4cc7-ee75-4998-d047-ef2776de118c"
      },
      "execution_count": 7,
      "outputs": [
        {
          "output_type": "execute_result",
          "data": {
            "text/plain": [
              "(92, 4)"
            ]
          },
          "metadata": {},
          "execution_count": 7
        }
      ]
    },
    {
      "cell_type": "code",
      "execution_count": 8,
      "metadata": {
        "colab": {
          "base_uri": "https://localhost:8080/"
        },
        "id": "4F1heIq_xVj3",
        "outputId": "a1696ba8-0c7c-4419-b45d-2f817954b2af"
      },
      "outputs": [
        {
          "output_type": "execute_result",
          "data": {
            "text/plain": [
              "collection\n",
              "CR effector      28\n",
              "EHEC effector    39\n",
              "EPEC effector    25\n",
              "dtype: int64"
            ]
          },
          "metadata": {},
          "execution_count": 8
        }
      ],
      "source": [
        "df.groupby(\"collection\").size()"
      ]
    },
    {
      "cell_type": "markdown",
      "source": [
        "We have a total of 92 effectors from 3 species. As a reference, we take now 92 random sequences from their respective proteomes, taking into account the relative composition. So, we double the dataset to 184 sequences.\n"
      ],
      "metadata": {
        "id": "VfsCv9hj2U3V"
      }
    },
    {
      "cell_type": "code",
      "execution_count": 9,
      "metadata": {
        "colab": {
          "base_uri": "https://localhost:8080/"
        },
        "id": "xdetYacFxVj4",
        "outputId": "494eab70-6aba-436f-d090-116cad956778"
      },
      "outputs": [
        {
          "output_type": "execute_result",
          "data": {
            "text/plain": [
              "(184, 4)"
            ]
          },
          "metadata": {},
          "execution_count": 9
        }
      ],
      "source": [
        "# load reference collections and take random samples\n",
        "\n",
        "CR_proteome_df = make_collection_df(\n",
        "    *load_fasta(\"effectors/fasta/637910.fasta\"), \"Proteome\"\n",
        ")\n",
        "CR_proteome_df = CR_proteome_df.sample(28)\n",
        "\n",
        "EHEC_proteome_df = make_collection_df(\n",
        "    *load_fasta(\"effectors/fasta/83334.fasta\"), \"Proteome\"\n",
        ")\n",
        "EHEC_proteome_df = EHEC_proteome_df.sample(39)\n",
        "\n",
        "EPEC_proteome_df = make_collection_df(\n",
        "    *load_fasta(\"effectors/fasta/574521.fasta\"), \"Proteome\"\n",
        ")\n",
        "EPEC_proteome_df = EPEC_proteome_df.sample(25)\n",
        "\n",
        "\n",
        "for proteome_sample in [CR_proteome_df, EHEC_proteome_df, EPEC_proteome_df]:\n",
        "    df = df.append(proteome_sample, ignore_index=True)\n",
        "\n",
        "df.shape\n"
      ]
    },
    {
      "cell_type": "code",
      "source": [
        "# Define embedder and reducer\n",
        "# (down)loading the embedder takes ~2 minutes\n",
        "embedder = ProtTransBertBFDEmbedder()"
      ],
      "metadata": {
        "colab": {
          "base_uri": "https://localhost:8080/"
        },
        "id": "qh1lQUUC0CiA",
        "outputId": "5c9cb8f9-6f92-4ddc-a97a-f1d558b15613"
      },
      "execution_count": 10,
      "outputs": [
        {
          "output_type": "stream",
          "name": "stderr",
          "text": [
            "Some weights of the model checkpoint at /root/.cache/bio_embeddings/prottrans_bert_bfd/model_directory were not used when initializing BertModel: ['cls.predictions.transform.LayerNorm.bias', 'cls.predictions.bias', 'cls.seq_relationship.bias', 'cls.predictions.decoder.weight', 'cls.predictions.transform.dense.weight', 'cls.seq_relationship.weight', 'cls.predictions.transform.LayerNorm.weight', 'cls.predictions.transform.dense.bias', 'cls.predictions.decoder.bias']\n",
            "- This IS expected if you are initializing BertModel from the checkpoint of a model trained on another task or with another architecture (e.g. initializing a BertForSequenceClassification model from a BertForPreTraining model).\n",
            "- This IS NOT expected if you are initializing BertModel from the checkpoint of a model that you expect to be exactly identical (initializing a BertForSequenceClassification model from a BertForSequenceClassification model).\n"
          ]
        }
      ]
    },
    {
      "cell_type": "code",
      "execution_count": 11,
      "metadata": {
        "colab": {
          "base_uri": "https://localhost:8080/"
        },
        "id": "DC2-exwLxVj4",
        "outputId": "2e52543b-ba72-46b4-a4b1-28d8f98eb9b7"
      },
      "outputs": [
        {
          "output_type": "execute_result",
          "data": {
            "text/plain": [
              "(184, 1024)"
            ]
          },
          "metadata": {},
          "execution_count": 11
        }
      ],
      "source": [
        "# embedding 184 sequences takes ~30 in without a GPU!\n",
        "effector_embeddings = embedder.embed_many(df[\"sequence\"])\n",
        "# embed_many returns a generator, we make it a list to load them\n",
        "effector_embeddings = list(effector_embeddings)\n",
        "# now pool each protein's embedding and make a final array with \n",
        "# each protein's 1024 dim embedding\n",
        "effector_embeddings = np.stack(\n",
        "    [embedder.reduce_per_protein(e) for e in effector_embeddings]\n",
        ")\n",
        "effector_embeddings.shape"
      ]
    },
    {
      "cell_type": "code",
      "execution_count": 12,
      "metadata": {
        "colab": {
          "base_uri": "https://localhost:8080/"
        },
        "id": "9WEkNEecxVj5",
        "outputId": "7e0ba4bf-53a2-408b-e403-00afd27fa991"
      },
      "outputs": [
        {
          "output_type": "stream",
          "name": "stderr",
          "text": [
            "/usr/local/lib/python3.7/dist-packages/sklearn/manifold/_t_sne.py:699: FutureWarning: 'square_distances' has been introduced in 0.24 to help phase out legacy squaring behavior. The 'legacy' setting will be removed in 1.1 (renaming of 0.26), and the default setting will be changed to True. In 1.3, 'square_distances' will be removed altogether, and distances will be squared by default. Set 'square_distances'=True to silence this warning.\n",
            "  FutureWarning\n"
          ]
        },
        {
          "output_type": "stream",
          "name": "stdout",
          "text": [
            "[t-SNE] Computing 19 nearest neighbors...\n",
            "[t-SNE] Indexed 184 samples in 0.001s...\n",
            "[t-SNE] Computed neighbors for 184 samples in 0.113s...\n",
            "[t-SNE] Computed conditional probabilities for sample 184 / 184\n",
            "[t-SNE] Mean sigma: 0.130014\n",
            "[t-SNE] KL divergence after 250 iterations with early exaggeration: 116.341560\n",
            "[t-SNE] KL divergence after 13250 iterations: 0.369069\n"
          ]
        },
        {
          "output_type": "execute_result",
          "data": {
            "text/plain": [
              "(184, 3)"
            ]
          },
          "metadata": {},
          "execution_count": 12
        }
      ],
      "source": [
        "reduced_effector_embeddings = tsne_reduce(effector_embeddings,\n",
        "                                          c_components=2,\n",
        "                                          init=\"pca\")\n",
        "reduced_effector_embeddings.shape\n"
      ]
    },
    {
      "cell_type": "code",
      "execution_count": 13,
      "metadata": {
        "colab": {
          "base_uri": "https://localhost:8080/",
          "height": 617
        },
        "id": "teZBcf9YxVj6",
        "outputId": "34750c82-d74f-4cb2-f557-dca192931e89"
      },
      "outputs": [
        {
          "output_type": "display_data",
          "data": {
            "text/html": [
              "<html>\n",
              "<head><meta charset=\"utf-8\" /></head>\n",
              "<body>\n",
              "    <div>            <script src=\"https://cdnjs.cloudflare.com/ajax/libs/mathjax/2.7.5/MathJax.js?config=TeX-AMS-MML_SVG\"></script><script type=\"text/javascript\">if (window.MathJax && window.MathJax.Hub && window.MathJax.Hub.Config) {window.MathJax.Hub.Config({SVG: {font: \"STIX-Web\"}});}</script>                <script type=\"text/javascript\">window.PlotlyConfig = {MathJaxConfig: 'local'};</script>\n",
              "        <script src=\"https://cdn.plot.ly/plotly-2.12.1.min.js\"></script>                <div id=\"2865440f-1e53-428d-99cf-cbda43236e39\" class=\"plotly-graph-div\" style=\"height:600px; width:600px;\"></div>            <script type=\"text/javascript\">                                    window.PLOTLYENV=window.PLOTLYENV || {};                                    if (document.getElementById(\"2865440f-1e53-428d-99cf-cbda43236e39\")) {                    Plotly.newPlot(                        \"2865440f-1e53-428d-99cf-cbda43236e39\",                        [{\"hovertemplate\":\"<b>%{hovertext}</b><br><br>Protein type=EPEC effector<br>t-SNE component 1=%{x}<br>t-SNE component 2=%{y}<extra></extra>\",\"hovertext\":[\"ospG - A0A0K4TFC7\",\"nleB - A0A1A9NR20\",\"A9R57_24190 - A0A1E5MD86\",\"E2348C_2916 - B7UH72\",\"E2348C_3230 - B7UI20\",\"E2348C_3231 - B7UI21\",\"E2348C_3232 - B7UI22\",\"E2348C_3234 - B7UI23\",\"E2348C_0718 - B7ULW4\",\"E2348C_0723 - B7ULW8\",\"espF - B7UM88\",\"tir - B7UM99\",\"map - B7UMA0\",\"espH - B7UMA2\",\"espZ - B7UMA9\",\"espG - B7UMC8\",\"E2348C_1040 - B7UNX2\",\"E2348C_1042 - B7UNX4\",\"E2348C_1044 - B7UNX6\",\"E2348C_1442 - B7UR60\",\"E2348C_1445 - B7UR63\",\"eaeB - Q05129\",\"cif - Q7WRZ5\",\"nleB - Q8VLH6\",\"espC - Q9EZE7\"],\"legendgroup\":\"EPEC effector\",\"marker\":{\"color\":\"#4C78A8\",\"symbol\":\"circle\"},\"mode\":\"markers\",\"name\":\"EPEC effector\",\"orientation\":\"v\",\"showlegend\":true,\"x\":[-312.6676940917969,-92.01094818115234,-69.3721694946289,-72.66102600097656,-177.76589965820312,-114.6978988647461,-149.13385009765625,-35.936397552490234,-308.2115478515625,-111.21832275390625,368.5540466308594,30.378870010375977,-20.313762664794922,-121.54087829589844,-12.683380126953125,-50.560211181640625,-186.9202880859375,-16.192869186401367,-73.96284484863281,0.16814133524894714,-123.29107666015625,16.988391876220703,-72.24475860595703,-109.96851348876953,78.79668426513672],\"xaxis\":\"x\",\"y\":[-169.99497985839844,57.51395034790039,-142.4844207763672,-14.33474349975586,-143.97206115722656,55.5792350769043,-54.679656982421875,-83.55320739746094,-160.01153564453125,-94.33777618408203,-33.9055290222168,-171.70458984375,-215.1588134765625,-46.4996223449707,-229.87063598632812,-16.81117057800293,132.21591186523438,-73.69477081298828,-28.498933792114258,-180.5567169189453,-1.7923245429992676,-213.81407165527344,-28.24966812133789,50.35074234008789,-174.69149780273438],\"yaxis\":\"y\",\"type\":\"scatter\"},{\"hovertemplate\":\"<b>%{hovertext}</b><br><br>Protein type=EHEC effector<br>t-SNE component 1=%{x}<br>t-SNE component 2=%{y}<extra></extra>\",\"hovertext\":[\"ECs0876 - A0A0H3JC80\",\"ECs1561 - A0A0H3JD33\",\"ECs1810 - A0A0H3JDH6\",\"ECs1560 - A0A0H3JDV8\",\"ECs2155 - A0A0H3JE38\",\"ECs1567 - A0A0H3JFN8\",\"ECs0850 - A0A0H3JGR6\",\"ECs2226 - A0A0H3JHA4\",\"ECs3488 - A0A0H3JJJ4\",\"ECs3855 - A0A0H3JP21\",\"espF(U) - P0DJ88\",\"ECs4590 - Q7DB50\",\"sepZ - Q7DB68\",\"ECs4564 - Q7DB74\",\"ECs4562 - Q7DB76\",\"tir - Q7DB77\",\"espF - Q7DB85\",\"ECs3858 - Q7DBA6\",\"ECs1825 - Q8X4Q6\",\"ECs3485 - Q8X4W3\",\"ECs1994 - Q8X4X1\",\"ECs1995 - Q8X4X2\",\"ECs1996 - Q8X4X3\",\"ECs2154 - Q8X507\",\"ECs2156 - Q8X509\",\"ECs1568 - Q8X782\",\"ECs0848 - Q8X831\",\"ECs0847 - Q8X834\",\"ECs3487 - Q8X9A5\",\"ECs3486 - Q8X9A7\",\"ECs0061 - Q8XA11\",\"ECs1812 - Q8XAJ5\",\"ECs1814 - Q8XAL6\",\"nleF - Q8XAL7\",\"ECs1824 - Q8XAN6\",\"ECs4653 - Q8XB17\",\"ECs2714 - Q8XB62\",\"ECs3857 - Q8XBX8\",\"espB - Q8XC86\"],\"legendgroup\":\"EHEC effector\",\"marker\":{\"color\":\"#F58518\",\"symbol\":\"circle\"},\"mode\":\"markers\",\"name\":\"EHEC effector\",\"orientation\":\"v\",\"showlegend\":true,\"x\":[-87.02327728271484,-143.83164978027344,-34.68217468261719,-193.33543395996094,-172.56060791015625,-53.928043365478516,-72.54109954833984,-184.12652587890625,-161.2395782470703,-183.3399200439453,348.05072021484375,-59.38991165161133,-28.117834091186523,-138.7788543701172,-20.267929077148438,28.2904052734375,371.273681640625,-153.7703399658203,-113.31124877929688,-106.27975463867188,-207.970947265625,-165.83961486816406,-194.3961181640625,-178.35426330566406,-205.89341735839844,-146.96640014648438,-307.2728271484375,-29.090478897094727,-85.32915496826172,-202.28224182128906,-132.35643005371094,-4.83543586730957,-290.48870849609375,-125.08537292480469,-190.6953582763672,-157.82542419433594,-122.77335357666016,-101.00133514404297,2.6642110347747803],\"xaxis\":\"x\",\"y\":[-41.51056671142578,-115.85169982910156,-155.70286560058594,-126.2343521118164,113.03773498535156,-147.55435180664062,-44.61012649536133,30.910846710205078,97.9561538696289,-128.83111572265625,-16.132457733154297,-31.312602996826172,-244.53948974609375,-39.48638153076172,-206.44219970703125,-185.4746856689453,-15.713861465454102,-47.6679801940918,-62.8874626159668,-52.8463134765625,132.3692626953125,128.45721435546875,71.69429016113281,71.73190307617188,117.5623779296875,-135.47828674316406,-149.2378692626953,-70.64878845214844,-98.37838745117188,67.96934509277344,-81.36566162109375,-162.69358825683594,-168.2698516845703,-2.2507500648498535,86.33169555664062,-125.6565170288086,-80.57853698730469,40.038963317871094,-204.47686767578125],\"yaxis\":\"y\",\"type\":\"scatter\"},{\"hovertemplate\":\"<b>%{hovertext}</b><br><br>Protein type=CR effector<br>t-SNE component 1=%{x}<br>t-SNE component 2=%{y}<extra></extra>\",\"hovertext\":[\"espC - A0A2X2U9X2\",\"nleL - A0A482PJC5\",\"espO - D2TI12\",\"nleG8 - D2TI20\",\"espM2 - D2TI21\",\"map - D2TI55\",\"espI - D2TJZ4\",\"nleC - D2TK70\",\"nleG1 - D2TK72\",\"espG - D2TKD5\",\"espF - D2TKD7\",\"espB - D2TKE1\",\"tir - D2TKE8\",\"espH - D2TKF1\",\"espZ - D2TKF8\",\"espM3 - D2TM85\",\"nleD-1 - D2TML3\",\"espN2-2 - D2TQZ7\",\"nleH - D2TRX7\",\"nleF - D2TRX8\",\"nleG7 - D2TRY0\",\"espJ - D2TRY1\",\"espL2 - D2TT36\",\"nleB1 - D2TT37\",\"nleE - D2TT38\",\"espK - D2TTX8\",\"lifA - Q5DKN7\",\"nleB - Q5XMK8\"],\"legendgroup\":\"CR effector\",\"marker\":{\"color\":\"#E45756\",\"symbol\":\"circle\"},\"mode\":\"markers\",\"name\":\"CR effector\",\"orientation\":\"v\",\"showlegend\":true,\"x\":[77.6718521118164,-196.66978454589844,-85.19900512695312,-190.7447509765625,-117.19337463378906,231.0057830810547,-10.900547981262207,-24.65674591064453,-204.69630432128906,-50.8819580078125,356.5427551269531,7.412912845611572,14.647138595581055,-129.7703399658203,-28.05962562561035,-122.84638214111328,-99.42252349853516,-128.11276245117188,-305.6791076660156,-142.49436950683594,-187.46743774414062,-100.58800506591797,-178.57302856445312,-97.9011001586914,-150.64271545410156,-152.39698791503906,-48.82453536987305,-85.86720275878906],\"xaxis\":\"x\",\"y\":[-162.0132598876953,-111.86742401123047,-142.2124786376953,101.81934356689453,-79.94398498535156,13.10521125793457,-171.9671630859375,-55.84049987792969,109.30108642578125,-24.99781608581543,-26.281503677368164,-223.76170349121094,-171.95335388183594,-34.25273895263672,-229.0928192138672,-57.62470626831055,-4.377419471740723,-111.08238983154297,-182.7109832763672,-3.852743625640869,41.76094436645508,-81.83301544189453,-145.51629638671875,70.5962142944336,-33.0137825012207,-132.63671875,-89.85540008544922,55.36411666870117],\"yaxis\":\"y\",\"type\":\"scatter\"},{\"hovertemplate\":\"<b>%{hovertext}</b><br><br>Protein type=Proteome<br>t-SNE component 1=%{x}<br>t-SNE component 2=%{y}<extra></extra>\",\"hovertext\":[\"rplS - D2TUN0\",\"uxaA - D2TR08\",\"tolR - D2TPE0\",\"anmK - D2THJ6\",\"ROD_08531 - D2TQG2\",\"ROD_26081 - D2TUT2\",\"fbpC - D2TK56\",\"ROD_33041 - D2TN78\",\"puuB - D2TK12\",\"ROD_49221 - D2TS05\",\"aceA - D2TSQ6\",\"ROD_14031 - D2THH2\",\"dapB - D2TGL8\",\"rspB - D2TP70\",\"ROD_16811 - D2TK97\",\"rfaS - D2TIX4\",\"ROD_29251 - D2TJM6\",\"dmsD - D2TIB5\",\"ROD_02611 - D2TJ38\",\"adcA - D2TIR8\",\"priA - D2TU49\",\"gltD - D2TP66\",\"polA - D2TUX7\",\"ROD_31371 - D2TLH9\",\"ROD_42191 - D2TJR8\",\"frlR - D2TKM9\",\"pheT - D2TGU3\",\"ROD_39841 - D2TH82\",\"ECs_3495 - Q8XC74\",\"rarA - P0AAZ6\",\"ECs_4945 - A0A0H3JJZ5\",\"lptD - Q8XA13\",\"bioA - A0A0H3JC75\",\"sbp - A0A0H3JI68\",\"ECs_1309 - A0A0X8RBR6\",\"ECs_1976 - A0A0H3JES4\",\"ECs_3241 - Q8XCL1\",\"ylbG - Q7DC27\",\"fhuF - Q8XB48\",\"ECs_4528 - Q8XD84\",\"yfiC - Q8XA22\",\"fadR - P0A8V8\",\"ygeP - A0A0H3JHM8\",\"menC - P58484\",\"ychA - P0AGM6\",\"ybdO - Q8XBU2\",\"secA - Q8X996\",\"pqiB - Q8XDA7\",\"zntB - P64425\",\"tabA - Q8XCB9\",\"ptsI - Q8XBL3\",\"thiK - Q8X8G6\",\"treR - A0A0H3JKE9\",\"ECs_1823 - A0A0H3JEH5\",\"yfiP - Q8X9F7\",\"ECs_4291 - Q8X6V1\",\"ECs_4280 - Q8X6W8\",\"ECs_1187 - A0A0H3JCJ7\",\"uvrC - P0A8G2\",\"ddpX - Q8XAU6\",\"torS - P58356\",\"yphE - Q8X4X9\",\"yihP - Q8X8E9\",\"yaaJ - Q8XA75\",\"copA - Q8XD24\",\"ECs_0328 - Q7DC34\",\"pgk - Q8XD03\",\"exuR - B7UJ01\",\"E2348C_0800 - B7UM44\",\"ybiR - B7UM14\",\"ygaV - B7UH86\",\"agaR - B7UJ29\",\"gadE - B7UL65\",\"secD - B7UJN1\",\"trbF - B7UTJ6\",\"purC - B7UGM6\",\"yedL - B7USV0\",\"clpS - B7UMX3\",\"ulaE - B7UQK6\",\"yihD - B7UNI1\",\"sufB - B7US22\",\"ymgA - B7UQ50\",\"E2348_P1_108 - B7UTH4\",\"E2348C_2749 - B7UGR2\",\"lpxK - B7UN01\",\"murC - B7UIE1\",\"yjjQ - B7UQZ4\",\"yahN - B7UJH8\",\"wcaL - B7UT82\",\"bglX - B7UFE9\",\"chuY - B7UL58\",\"E2348C_2655 - B7UGG9\"],\"legendgroup\":\"Proteome\",\"marker\":{\"color\":\"#72B7B2\",\"symbol\":\"circle\"},\"mode\":\"markers\",\"name\":\"Proteome\",\"orientation\":\"v\",\"showlegend\":true,\"x\":[255.45347595214844,201.17933654785156,276.32781982421875,191.83108520507812,-25.5386962890625,8.197001457214355,234.5409698486328,172.05592346191406,193.6320343017578,207.87313842773438,227.72325134277344,200.67552185058594,224.62362670898438,155.65821838378906,177.69021606445312,-130.54660034179688,-177.50961303710938,191.4575958251953,-177.6051025390625,61.216758728027344,175.94830322265625,200.17576599121094,230.01443481445312,-155.25640869140625,-149.7613067626953,-172.9904327392578,212.447265625,183.9833526611328,-26.882831573486328,229.01805114746094,-156.12124633789062,253.1046142578125,213.2334747314453,190.7545928955078,-209.3459930419922,-186.28271484375,162.86807250976562,262.77252197265625,-153.36038208007812,-141.8917236328125,169.2378387451172,232.35939025878906,-130.51345825195312,214.38546752929688,-182.17044067382812,-162.36105346679688,252.03453063964844,257.76416015625,209.48391723632812,150.7289581298828,201.4910430908203,-167.13780212402344,174.69100952148438,-38.68077850341797,166.8131561279297,-145.25489807128906,-186.5375518798828,-117.34149932861328,241.84629821777344,165.00921630859375,-168.73812866210938,231.76150512695312,162.96295166015625,172.73912048339844,251.6466064453125,-202.5002899169922,210.7349395751953,206.56239318847656,-203.04916381835938,199.7063446044922,202.65704345703125,212.36402893066406,-154.3732147216797,249.7905731201172,-134.51026916503906,191.69737243652344,161.79705810546875,251.9620819091797,183.45526123046875,-132.73753356933594,234.8126678466797,-107.83392333984375,-146.93540954589844,-140.72113037109375,185.6752471923828,222.63119506835938,-187.6478271484375,151.89915466308594,188.1548614501953,186.27906799316406,183.98382568359375,-24.977949142456055],\"xaxis\":\"x\",\"y\":[53.618473052978516,52.420589447021484,19.398780822753906,162.0511474609375,-155.80633544921875,-238.71107482910156,89.99786376953125,85.81161499023438,74.66828155517578,180.48887634277344,47.008399963378906,167.66270446777344,62.67952346801758,91.0396499633789,185.69956970214844,68.00236511230469,77.50167083740234,206.13809204101562,4.429693698883057,-169.19261169433594,187.39974975585938,33.63612365722656,35.626033782958984,-41.637794494628906,-34.66969299316406,102.18388366699219,32.660011291503906,113.64924621582031,-173.9785614013672,57.38720703125,-7.10368013381958,-7.5100908279418945,84.35965728759766,44.92519760131836,48.28235626220703,2.3376870155334473,164.48617553710938,41.43925094604492,17.627363204956055,0.8280028700828552,181.5331268310547,171.69125366210938,33.23756408691406,177.01036071777344,70.95623016357422,92.3582992553711,37.07876205444336,10.718340873718262,159.07391357421875,142.8822021484375,13.93227481842041,35.57955551147461,116.04898834228516,-160.5282745361328,157.19815063476562,-120.74922943115234,55.027931213378906,-34.50872039794922,41.40964126586914,172.5075225830078,39.29417419433594,111.91008758544922,148.28244018554688,164.96177673339844,82.74954223632812,62.0711555480957,31.01082420349121,118.58731079101562,-147.0494384765625,173.2653045654297,93.05995178222656,102.9564437866211,83.49837493896484,24.475862503051758,-43.890785217285156,16.048803329467773,190.849609375,17.42763900756836,53.57236099243164,-23.798179626464844,37.07174301147461,-50.62452697753906,15.165436744689941,-45.1380729675293,164.36111450195312,59.554351806640625,82.51823425292969,178.03634643554688,102.42599487304688,42.20243835449219,139.6460418701172,-213.42657470703125],\"yaxis\":\"y\",\"type\":\"scatter\"}],                        {\"template\":{\"data\":{\"histogram2dcontour\":[{\"type\":\"histogram2dcontour\",\"colorbar\":{\"outlinewidth\":0,\"ticks\":\"\"},\"colorscale\":[[0.0,\"#0d0887\"],[0.1111111111111111,\"#46039f\"],[0.2222222222222222,\"#7201a8\"],[0.3333333333333333,\"#9c179e\"],[0.4444444444444444,\"#bd3786\"],[0.5555555555555556,\"#d8576b\"],[0.6666666666666666,\"#ed7953\"],[0.7777777777777778,\"#fb9f3a\"],[0.8888888888888888,\"#fdca26\"],[1.0,\"#f0f921\"]]}],\"choropleth\":[{\"type\":\"choropleth\",\"colorbar\":{\"outlinewidth\":0,\"ticks\":\"\"}}],\"histogram2d\":[{\"type\":\"histogram2d\",\"colorbar\":{\"outlinewidth\":0,\"ticks\":\"\"},\"colorscale\":[[0.0,\"#0d0887\"],[0.1111111111111111,\"#46039f\"],[0.2222222222222222,\"#7201a8\"],[0.3333333333333333,\"#9c179e\"],[0.4444444444444444,\"#bd3786\"],[0.5555555555555556,\"#d8576b\"],[0.6666666666666666,\"#ed7953\"],[0.7777777777777778,\"#fb9f3a\"],[0.8888888888888888,\"#fdca26\"],[1.0,\"#f0f921\"]]}],\"heatmap\":[{\"type\":\"heatmap\",\"colorbar\":{\"outlinewidth\":0,\"ticks\":\"\"},\"colorscale\":[[0.0,\"#0d0887\"],[0.1111111111111111,\"#46039f\"],[0.2222222222222222,\"#7201a8\"],[0.3333333333333333,\"#9c179e\"],[0.4444444444444444,\"#bd3786\"],[0.5555555555555556,\"#d8576b\"],[0.6666666666666666,\"#ed7953\"],[0.7777777777777778,\"#fb9f3a\"],[0.8888888888888888,\"#fdca26\"],[1.0,\"#f0f921\"]]}],\"heatmapgl\":[{\"type\":\"heatmapgl\",\"colorbar\":{\"outlinewidth\":0,\"ticks\":\"\"},\"colorscale\":[[0.0,\"#0d0887\"],[0.1111111111111111,\"#46039f\"],[0.2222222222222222,\"#7201a8\"],[0.3333333333333333,\"#9c179e\"],[0.4444444444444444,\"#bd3786\"],[0.5555555555555556,\"#d8576b\"],[0.6666666666666666,\"#ed7953\"],[0.7777777777777778,\"#fb9f3a\"],[0.8888888888888888,\"#fdca26\"],[1.0,\"#f0f921\"]]}],\"contourcarpet\":[{\"type\":\"contourcarpet\",\"colorbar\":{\"outlinewidth\":0,\"ticks\":\"\"}}],\"contour\":[{\"type\":\"contour\",\"colorbar\":{\"outlinewidth\":0,\"ticks\":\"\"},\"colorscale\":[[0.0,\"#0d0887\"],[0.1111111111111111,\"#46039f\"],[0.2222222222222222,\"#7201a8\"],[0.3333333333333333,\"#9c179e\"],[0.4444444444444444,\"#bd3786\"],[0.5555555555555556,\"#d8576b\"],[0.6666666666666666,\"#ed7953\"],[0.7777777777777778,\"#fb9f3a\"],[0.8888888888888888,\"#fdca26\"],[1.0,\"#f0f921\"]]}],\"surface\":[{\"type\":\"surface\",\"colorbar\":{\"outlinewidth\":0,\"ticks\":\"\"},\"colorscale\":[[0.0,\"#0d0887\"],[0.1111111111111111,\"#46039f\"],[0.2222222222222222,\"#7201a8\"],[0.3333333333333333,\"#9c179e\"],[0.4444444444444444,\"#bd3786\"],[0.5555555555555556,\"#d8576b\"],[0.6666666666666666,\"#ed7953\"],[0.7777777777777778,\"#fb9f3a\"],[0.8888888888888888,\"#fdca26\"],[1.0,\"#f0f921\"]]}],\"mesh3d\":[{\"type\":\"mesh3d\",\"colorbar\":{\"outlinewidth\":0,\"ticks\":\"\"}}],\"scatter\":[{\"fillpattern\":{\"fillmode\":\"overlay\",\"size\":10,\"solidity\":0.2},\"type\":\"scatter\"}],\"parcoords\":[{\"type\":\"parcoords\",\"line\":{\"colorbar\":{\"outlinewidth\":0,\"ticks\":\"\"}}}],\"scatterpolargl\":[{\"type\":\"scatterpolargl\",\"marker\":{\"colorbar\":{\"outlinewidth\":0,\"ticks\":\"\"}}}],\"bar\":[{\"error_x\":{\"color\":\"#2a3f5f\"},\"error_y\":{\"color\":\"#2a3f5f\"},\"marker\":{\"line\":{\"color\":\"#E5ECF6\",\"width\":0.5},\"pattern\":{\"fillmode\":\"overlay\",\"size\":10,\"solidity\":0.2}},\"type\":\"bar\"}],\"scattergeo\":[{\"type\":\"scattergeo\",\"marker\":{\"colorbar\":{\"outlinewidth\":0,\"ticks\":\"\"}}}],\"scatterpolar\":[{\"type\":\"scatterpolar\",\"marker\":{\"colorbar\":{\"outlinewidth\":0,\"ticks\":\"\"}}}],\"histogram\":[{\"marker\":{\"pattern\":{\"fillmode\":\"overlay\",\"size\":10,\"solidity\":0.2}},\"type\":\"histogram\"}],\"scattergl\":[{\"type\":\"scattergl\",\"marker\":{\"colorbar\":{\"outlinewidth\":0,\"ticks\":\"\"}}}],\"scatter3d\":[{\"type\":\"scatter3d\",\"line\":{\"colorbar\":{\"outlinewidth\":0,\"ticks\":\"\"}},\"marker\":{\"colorbar\":{\"outlinewidth\":0,\"ticks\":\"\"}}}],\"scattermapbox\":[{\"type\":\"scattermapbox\",\"marker\":{\"colorbar\":{\"outlinewidth\":0,\"ticks\":\"\"}}}],\"scatterternary\":[{\"type\":\"scatterternary\",\"marker\":{\"colorbar\":{\"outlinewidth\":0,\"ticks\":\"\"}}}],\"scattercarpet\":[{\"type\":\"scattercarpet\",\"marker\":{\"colorbar\":{\"outlinewidth\":0,\"ticks\":\"\"}}}],\"carpet\":[{\"aaxis\":{\"endlinecolor\":\"#2a3f5f\",\"gridcolor\":\"white\",\"linecolor\":\"white\",\"minorgridcolor\":\"white\",\"startlinecolor\":\"#2a3f5f\"},\"baxis\":{\"endlinecolor\":\"#2a3f5f\",\"gridcolor\":\"white\",\"linecolor\":\"white\",\"minorgridcolor\":\"white\",\"startlinecolor\":\"#2a3f5f\"},\"type\":\"carpet\"}],\"table\":[{\"cells\":{\"fill\":{\"color\":\"#EBF0F8\"},\"line\":{\"color\":\"white\"}},\"header\":{\"fill\":{\"color\":\"#C8D4E3\"},\"line\":{\"color\":\"white\"}},\"type\":\"table\"}],\"barpolar\":[{\"marker\":{\"line\":{\"color\":\"#E5ECF6\",\"width\":0.5},\"pattern\":{\"fillmode\":\"overlay\",\"size\":10,\"solidity\":0.2}},\"type\":\"barpolar\"}],\"pie\":[{\"automargin\":true,\"type\":\"pie\"}]},\"layout\":{\"autotypenumbers\":\"strict\",\"colorway\":[\"#636efa\",\"#EF553B\",\"#00cc96\",\"#ab63fa\",\"#FFA15A\",\"#19d3f3\",\"#FF6692\",\"#B6E880\",\"#FF97FF\",\"#FECB52\"],\"font\":{\"color\":\"#2a3f5f\"},\"hovermode\":\"closest\",\"hoverlabel\":{\"align\":\"left\"},\"paper_bgcolor\":\"white\",\"plot_bgcolor\":\"#E5ECF6\",\"polar\":{\"bgcolor\":\"#E5ECF6\",\"angularaxis\":{\"gridcolor\":\"white\",\"linecolor\":\"white\",\"ticks\":\"\"},\"radialaxis\":{\"gridcolor\":\"white\",\"linecolor\":\"white\",\"ticks\":\"\"}},\"ternary\":{\"bgcolor\":\"#E5ECF6\",\"aaxis\":{\"gridcolor\":\"white\",\"linecolor\":\"white\",\"ticks\":\"\"},\"baxis\":{\"gridcolor\":\"white\",\"linecolor\":\"white\",\"ticks\":\"\"},\"caxis\":{\"gridcolor\":\"white\",\"linecolor\":\"white\",\"ticks\":\"\"}},\"coloraxis\":{\"colorbar\":{\"outlinewidth\":0,\"ticks\":\"\"}},\"colorscale\":{\"sequential\":[[0.0,\"#0d0887\"],[0.1111111111111111,\"#46039f\"],[0.2222222222222222,\"#7201a8\"],[0.3333333333333333,\"#9c179e\"],[0.4444444444444444,\"#bd3786\"],[0.5555555555555556,\"#d8576b\"],[0.6666666666666666,\"#ed7953\"],[0.7777777777777778,\"#fb9f3a\"],[0.8888888888888888,\"#fdca26\"],[1.0,\"#f0f921\"]],\"sequentialminus\":[[0.0,\"#0d0887\"],[0.1111111111111111,\"#46039f\"],[0.2222222222222222,\"#7201a8\"],[0.3333333333333333,\"#9c179e\"],[0.4444444444444444,\"#bd3786\"],[0.5555555555555556,\"#d8576b\"],[0.6666666666666666,\"#ed7953\"],[0.7777777777777778,\"#fb9f3a\"],[0.8888888888888888,\"#fdca26\"],[1.0,\"#f0f921\"]],\"diverging\":[[0,\"#8e0152\"],[0.1,\"#c51b7d\"],[0.2,\"#de77ae\"],[0.3,\"#f1b6da\"],[0.4,\"#fde0ef\"],[0.5,\"#f7f7f7\"],[0.6,\"#e6f5d0\"],[0.7,\"#b8e186\"],[0.8,\"#7fbc41\"],[0.9,\"#4d9221\"],[1,\"#276419\"]]},\"xaxis\":{\"gridcolor\":\"white\",\"linecolor\":\"white\",\"ticks\":\"\",\"title\":{\"standoff\":15},\"zerolinecolor\":\"white\",\"automargin\":true,\"zerolinewidth\":2},\"yaxis\":{\"gridcolor\":\"white\",\"linecolor\":\"white\",\"ticks\":\"\",\"title\":{\"standoff\":15},\"zerolinecolor\":\"white\",\"automargin\":true,\"zerolinewidth\":2},\"scene\":{\"xaxis\":{\"backgroundcolor\":\"#E5ECF6\",\"gridcolor\":\"white\",\"linecolor\":\"white\",\"showbackground\":true,\"ticks\":\"\",\"zerolinecolor\":\"white\",\"gridwidth\":2},\"yaxis\":{\"backgroundcolor\":\"#E5ECF6\",\"gridcolor\":\"white\",\"linecolor\":\"white\",\"showbackground\":true,\"ticks\":\"\",\"zerolinecolor\":\"white\",\"gridwidth\":2},\"zaxis\":{\"backgroundcolor\":\"#E5ECF6\",\"gridcolor\":\"white\",\"linecolor\":\"white\",\"showbackground\":true,\"ticks\":\"\",\"zerolinecolor\":\"white\",\"gridwidth\":2}},\"shapedefaults\":{\"line\":{\"color\":\"#2a3f5f\"}},\"annotationdefaults\":{\"arrowcolor\":\"#2a3f5f\",\"arrowhead\":0,\"arrowwidth\":1},\"geo\":{\"bgcolor\":\"white\",\"landcolor\":\"#E5ECF6\",\"subunitcolor\":\"white\",\"showland\":true,\"showlakes\":true,\"lakecolor\":\"white\"},\"title\":{\"x\":0.05},\"mapbox\":{\"style\":\"light\"}}},\"xaxis\":{\"anchor\":\"y\",\"domain\":[0.0,1.0],\"title\":{\"text\":\"t-SNE component 1\"}},\"yaxis\":{\"anchor\":\"x\",\"domain\":[0.0,1.0],\"title\":{\"text\":\"t-SNE component 2\"}},\"legend\":{\"title\":{\"text\":\"Protein type\"},\"tracegroupgap\":0},\"margin\":{\"t\":60},\"height\":600,\"width\":600},                        {\"responsive\": true}                    ).then(function(){\n",
              "                            \n",
              "var gd = document.getElementById('2865440f-1e53-428d-99cf-cbda43236e39');\n",
              "var x = new MutationObserver(function (mutations, observer) {{\n",
              "        var display = window.getComputedStyle(gd).display;\n",
              "        if (!display || display === 'none') {{\n",
              "            console.log([gd, 'removed!']);\n",
              "            Plotly.purge(gd);\n",
              "            observer.disconnect();\n",
              "        }}\n",
              "}});\n",
              "\n",
              "// Listen for the removal of the full notebook cells\n",
              "var notebookContainer = gd.closest('#notebook-container');\n",
              "if (notebookContainer) {{\n",
              "    x.observe(notebookContainer, {childList: true});\n",
              "}}\n",
              "\n",
              "// Listen for the clearing of the current output cell\n",
              "var outputEl = gd.closest('.output');\n",
              "if (outputEl) {{\n",
              "    x.observe(outputEl, {childList: true});\n",
              "}}\n",
              "\n",
              "                        })                };                            </script>        </div>\n",
              "</body>\n",
              "</html>"
            ]
          },
          "metadata": {}
        }
      ],
      "source": [
        "px.scatter(\n",
        "    x=reduced_effector_embeddings[:, 0],\n",
        "    y=reduced_effector_embeddings[:, 1],\n",
        "    hover_name=df[\"gene name\"] + \" - \" +df[\"uniprot id\"],\n",
        "    color=df[\"collection\"],\n",
        "    color_discrete_sequence=px.colors.qualitative.T10,\n",
        "    width=600,\n",
        "    height=600,\n",
        "        labels={\n",
        "        \"x\": \"t-SNE component 1\",\n",
        "        \"y\": \"t-SNE component 2\",\n",
        "        \"color\": \"Protein type\",\n",
        "    }\n",
        ")\n"
      ]
    }
  ],
  "metadata": {
    "kernelspec": {
      "display_name": "Python 3.7.13 ('bioemb')",
      "language": "python",
      "name": "python3"
    },
    "language_info": {
      "codemirror_mode": {
        "name": "ipython",
        "version": 3
      },
      "file_extension": ".py",
      "mimetype": "text/x-python",
      "name": "python",
      "nbconvert_exporter": "python",
      "pygments_lexer": "ipython3",
      "version": "3.6.13"
    },
    "orig_nbformat": 4,
    "vscode": {
      "interpreter": {
        "hash": "2a0a046441052decc56c505fe660ce73aa55055108c38b28965a2277abdb62cd"
      }
    },
    "colab": {
      "name": "effector_embeddings.ipynb",
      "provenance": [],
      "include_colab_link": true
    },
    "accelerator": "GPU",
    "gpuClass": "standard"
  },
  "nbformat": 4,
  "nbformat_minor": 0
}